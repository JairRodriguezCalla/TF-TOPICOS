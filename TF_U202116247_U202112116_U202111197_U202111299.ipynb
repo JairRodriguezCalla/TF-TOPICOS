{
 "cells": [
  {
   "cell_type": "code",
   "execution_count": 2,
   "metadata": {
    "colab": {
     "base_uri": "https://localhost:8080/"
    },
    "id": "pkxnZZZn5C-p",
    "outputId": "db0a33d0-1889-434b-fd8b-b1ece9dd8067"
   },
   "outputs": [
    {
     "name": "stdout",
     "output_type": "stream",
     "text": [
      "Collecting python-constraint\n",
      "  Downloading python-constraint-1.4.0.tar.bz2 (18 kB)\n",
      "  Preparing metadata (setup.py) ... \u001b[?25l\u001b[?25hdone\n",
      "Building wheels for collected packages: python-constraint\n",
      "  Building wheel for python-constraint (setup.py) ... \u001b[?25l\u001b[?25hdone\n",
      "  Created wheel for python-constraint: filename=python_constraint-1.4.0-py2.py3-none-any.whl size=24059 sha256=9cc17d72c25cd52744074217c622ab74c399a880d5a7161e4a669951b7da08f4\n",
      "  Stored in directory: /root/.cache/pip/wheels/2e/f2/2b/cb08b5fe129e4f69b7033061f256e5c551b0aa1160c2872aee\n",
      "Successfully built python-constraint\n",
      "Installing collected packages: python-constraint\n",
      "Successfully installed python-constraint-1.4.0\n"
     ]
    }
   ],
   "source": [
    "!pip install python-constraint"
   ]
  },
  {
   "cell_type": "code",
   "execution_count": 1,
   "metadata": {
    "colab": {
     "base_uri": "https://localhost:8080/"
    },
    "id": "g9SCDBqG427u",
    "outputId": "553b8f70-8f62-4e10-93b4-e6765a192b92"
   },
   "outputs": [
    {
     "name": "stdout",
     "output_type": "stream",
     "text": [
      "Prueba de Agente de Aula:\n",
      "Curso: Introducción a los Algoritmos, Estudiantes: 27, Capacidades de aulas: {'UH45': 25, 'UA20': 30, 'UC38': 28}\n",
      "Curso: Algoritmos, Estudiantes: 23, Capacidades de aulas: {'UH45': 25, 'UA20': 30, 'UC38': 28}\n",
      "Curso: Algoritmos y Estructuras de Datos, Estudiantes: 23, Capacidades de aulas: {'UH45': 25, 'UA20': 30, 'UC38': 28}\n",
      "Curso: Complejidad Algorítmica, Estudiantes: 30, Capacidades de aulas: {'UH45': 25, 'UA20': 30, 'UC38': 28}\n",
      "\n",
      "Realizando Pruebas de Integración de Agente...\n",
      "\n",
      "Prueba de Integración de Agentes:\n",
      "Soluciones válidas encontradas.\n",
      "\n",
      "Mejor solución encontrada con 3 aulas diferentes:\n",
      "Complejidad Algorítmica: Aula UA20, Miércoles a las 13:00\n",
      "Introducción a los Algoritmos: Aula UA20, Lunes a las 07:00\n",
      "Algoritmos: Aula UC38, Lunes a las 07:00\n",
      "Algoritmos y Estructuras de Datos: Aula UH45, Lunes a las 07:00\n"
     ]
    }
   ],
   "source": [
    "from constraint import Problem\n",
    "import random\n",
    "\n",
    "# Configuración inicial\n",
    "aulas = [\"UH45\", \"UA20\", \"UC38\"]\n",
    "horarios = [\"07:00\", \"09:00\", \"11:00\", \"13:00\"]\n",
    "dias = [\"Lunes\", \"Martes\", \"Miércoles\"]\n",
    "cursos = [\"Introducción a los Algoritmos\", \"Algoritmos\", \"Algoritmos y Estructuras de Datos\", \"Complejidad Algorítmica\"]\n",
    "capacidad_aulas = {\"UH45\": 25, \"UA20\": 30, \"UC38\": 28}\n",
    "estudiantes_curso = {curso: random.randint(20, 30) for curso in cursos}\n",
    "\n",
    "# Clase Agente de Aula\n",
    "class AgenteAula:\n",
    "    def __init__(self, problem):\n",
    "        self.problem = problem\n",
    "\n",
    "    def agregar_restricciones_capacidad(self):\n",
    "        \"\"\"\n",
    "        Restricción de capacidad: el aula debe tener espacio suficiente para los estudiantes del curso.\n",
    "        \"\"\"\n",
    "        for curso in cursos:\n",
    "            self.problem.addConstraint(lambda asignacion, curso=curso: estudiantes_curso[curso] <= capacidad_aulas[asignacion[0]], [curso])\n",
    "\n",
    "# Clase Agente de Horario\n",
    "class AgenteHorario:\n",
    "    def __init__(self, problem):\n",
    "        self.problem = problem\n",
    "\n",
    "    def agregar_restricciones_horarios(self):\n",
    "        \"\"\"\n",
    "        Restricción de conflicto de horarios: evita asignar el mismo horario y aula a múltiples cursos.\n",
    "        \"\"\"\n",
    "        def restriccion_aulas_distintas(asignacion1, asignacion2):\n",
    "            aula1, horario1, dia1 = asignacion1\n",
    "            aula2, horario2, dia2 = asignacion2\n",
    "            return not (aula1 == aula2 and horario1 == horario2 and dia1 == dia2)\n",
    "\n",
    "        for i, curso1 in enumerate(cursos):\n",
    "            for curso2 in cursos[i + 1:]:\n",
    "                self.problem.addConstraint(restriccion_aulas_distintas, (curso1, curso2))\n",
    "\n",
    "# Clase Agente de Optimización\n",
    "class AgenteOptimización:\n",
    "    def seleccionar_mejor_solucion(self, soluciones):\n",
    "        \"\"\"\n",
    "        Selecciona la mejor solución optimizando el uso de diferentes aulas.\n",
    "        \"\"\"\n",
    "        mejor_solucion = None\n",
    "        max_aulas_diferentes = 0\n",
    "\n",
    "        for solucion in soluciones:\n",
    "            aulas_utilizadas = {asignacion[0] for asignacion in solucion.values()}\n",
    "            num_aulas = len(aulas_utilizadas)\n",
    "\n",
    "            if num_aulas > max_aulas_diferentes:\n",
    "                max_aulas_diferentes = num_aulas\n",
    "                mejor_solucion = solucion\n",
    "\n",
    "        return mejor_solucion, max_aulas_diferentes\n",
    "\n",
    "# Función para generar el dominio de variables\n",
    "def generar_dominio():\n",
    "    \"\"\"\n",
    "    Genera el dominio de combinaciones posibles de aulas, horarios y días.\n",
    "    \"\"\"\n",
    "    return [(aula, horario, dia) for aula in aulas for horario in horarios for dia in dias]\n",
    "\n",
    "# Funciones de prueba\n",
    "def prueba_agente_aula():\n",
    "    print(\"Prueba de Agente de Aula:\")\n",
    "    agente_aula.agregar_restricciones_capacidad()\n",
    "    for curso, capacidad in estudiantes_curso.items():\n",
    "        print(f\"Curso: {curso}, Estudiantes: {capacidad}, Capacidades de aulas: {capacidad_aulas}\")\n",
    "\n",
    "def prueba_agente_horario():\n",
    "    print(\"\\nRealizando Pruebas de Integración de Agente...\")\n",
    "    agente_horario.agregar_restricciones_horarios()\n",
    "\n",
    "def prueba_integracion():\n",
    "    print(\"\\nPrueba de Integración de Agentes:\")\n",
    "    agente_aula.agregar_restricciones_capacidad()\n",
    "    agente_horario.agregar_restricciones_horarios()\n",
    "    soluciones = problem.getSolutions()\n",
    "    if soluciones:\n",
    "        print(\"Soluciones válidas encontradas.\")\n",
    "    else:\n",
    "        print(\"No se encontraron soluciones válidas.\")\n",
    "\n",
    "# Integración del sistema\n",
    "problem = Problem()\n",
    "\n",
    "# Dominio para cada curso\n",
    "for curso in cursos:\n",
    "    problem.addVariable(curso, generar_dominio())\n",
    "\n",
    "# Instanciar los agentes\n",
    "agente_aula = AgenteAula(problem)\n",
    "agente_horario = AgenteHorario(problem)\n",
    "agente_optimizacion = AgenteOptimización()\n",
    "\n",
    "# Realizar pruebas unitarias y de integración\n",
    "prueba_agente_aula()\n",
    "prueba_agente_horario()\n",
    "prueba_integracion()\n",
    "\n",
    "# Aplicar restricciones y obtener soluciones\n",
    "agente_aula.agregar_restricciones_capacidad()\n",
    "agente_horario.agregar_restricciones_horarios()\n",
    "soluciones = problem.getSolutions()\n",
    "mejor_solucion, max_aulas_diferentes = agente_optimizacion.seleccionar_mejor_solucion(soluciones)\n",
    "\n",
    "# Mostrar la mejor solución\n",
    "if mejor_solucion:\n",
    "    print(f\"\\nMejor solución encontrada con {max_aulas_diferentes} aulas diferentes:\")\n",
    "    for curso, asignacion in mejor_solucion.items():\n",
    "        aula, horario, dia = asignacion\n",
    "        print(f\"{curso}: Aula {aula}, {dia} a las {horario}\")\n",
    "else:\n",
    "    print(\"\\nNo se encontraron soluciones válidas.\")\n"
   ]
  }
 ],
 "metadata": {
  "colab": {
   "provenance": []
  },
  "kernelspec": {
   "display_name": "Python 3",
   "name": "python3"
  },
  "language_info": {
   "codemirror_mode": {
    "name": "ipython",
    "version": 3
   },
   "file_extension": ".py",
   "mimetype": "text/x-python",
   "name": "python",
   "nbconvert_exporter": "python",
   "pygments_lexer": "ipython3",
   "version": "3.12.2"
  }
 },
 "nbformat": 4,
 "nbformat_minor": 0
}
